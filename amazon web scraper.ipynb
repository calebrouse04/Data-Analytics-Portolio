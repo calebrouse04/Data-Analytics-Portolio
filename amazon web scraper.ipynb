{
 "cells": [
  {
   "cell_type": "code",
   "execution_count": 35,
   "id": "01dd513f",
   "metadata": {},
   "outputs": [],
   "source": [
    "#import \n",
    "\n",
    "from bs4 import BeautifulSoup\n",
    "import requests\n",
    "import smtplib\n",
    "import time\n",
    "import datetime\n"
   ]
  },
  {
   "cell_type": "code",
   "execution_count": 39,
   "id": "bdba4ddb",
   "metadata": {},
   "outputs": [
    {
     "name": "stdout",
     "output_type": "stream",
     "text": [
      "\n",
      "                   Funny Got Data MIS Data Systems Business Analyst T-Shirt\n",
      "                  \n",
      "\n",
      "                  $16.99\n",
      "                 \n"
     ]
    }
   ],
   "source": [
    "# connect to website\n",
    "\n",
    "URL = \"https://www.amazon.com/Funny-Data-Systems-Business-Analyst/dp/B07FNW9FGJ/ref=sr_1_3?crid=1M4HG3W37JJ4I&keywords=data+analyst+tshirt&qid=1641439478&sprefix=data+analyst+tshirt%2Caps%2C76&sr=8-3\"\n",
    "    \n",
    "headers = {\"User-Agent\": \"Mozilla/5.0 (Macintosh; Intel Mac OS X 10_15_7) AppleWebKit/537.36 (KHTML, like Gecko) Chrome/96.0.4664.110 Safari/537.36\", \n",
    "    \"X-Amzn-Trace-Id\": \"Root=1-61d66163-33b71a1522290de52014ecb3\"}\n",
    "\n",
    "page = requests.get(URL, headers=headers)\n",
    "\n",
    "soup1 = BeautifulSoup(page.content, \"html.parser\")\n",
    "\n",
    "#formatting\n",
    "\n",
    "soup2 = BeautifulSoup(soup1.prettify(), \"html.parser\")\n",
    "\n",
    "title = soup2.find(id= 'productTitle').get_text()\n",
    "\n",
    "price = soup2.find('span','a-offscreen').get_text()\n",
    "\n",
    "\n",
    "print(title)\n",
    "print(price)\n",
    "    \n",
    " "
   ]
  },
  {
   "cell_type": "code",
   "execution_count": 40,
   "id": "ebc6acc3",
   "metadata": {},
   "outputs": [],
   "source": [
    "#cleaning\n",
    "price= price.strip()[1:]\n",
    "title= title.strip()"
   ]
  },
  {
   "cell_type": "code",
   "execution_count": 42,
   "id": "0b80fff2",
   "metadata": {},
   "outputs": [
    {
     "name": "stdout",
     "output_type": "stream",
     "text": [
      "2022-01-05\n"
     ]
    }
   ],
   "source": [
    "import datetime\n",
    "\n",
    "today= datetime.date.today()\n",
    "\n",
    "print(today)"
   ]
  },
  {
   "cell_type": "code",
   "execution_count": 44,
   "id": "5693175b",
   "metadata": {},
   "outputs": [],
   "source": [
    "import csv\n",
    "\n",
    "header = ['Title','Price','Date']\n",
    "data= [title,price,today]\n",
    "\n",
    "type(data)\n",
    "\n",
    "with open('Amazonwebscraper.csv', 'w', newline= '', encoding= 'UTF8') as f:\n",
    "    writer= csv.writer(f)\n",
    "    writer.writerow(header)\n",
    "    writer.writerow(data)\n",
    "    \n",
    "    "
   ]
  },
  {
   "cell_type": "code",
   "execution_count": 63,
   "id": "c29dc17d",
   "metadata": {},
   "outputs": [
    {
     "name": "stdout",
     "output_type": "stream",
     "text": [
      "                                                                                                            Title  \\\n",
      "Funny Got Data MIS Data Systems Business Analys... 16.99Funny Got Data MIS Data Systems Business A...       16.99   \n",
      "                                                   16.99                                               2022-01-05   \n",
      "\n",
      "                                                                                                            Price  \n",
      "Funny Got Data MIS Data Systems Business Analys... 16.99Funny Got Data MIS Data Systems Business A...  2022-01-05  \n",
      "                                                   16.99                                                      NaN  \n"
     ]
    }
   ],
   "source": [
    "import pandas as pd\n",
    "\n",
    "df = pd.read_csv(r'/Users/calebrouse/Amazonwebscraper.csv')\n",
    "\n",
    "print(df)"
   ]
  },
  {
   "cell_type": "code",
   "execution_count": 64,
   "id": "61839203",
   "metadata": {},
   "outputs": [],
   "source": [
    "#appending daya\n",
    "with open('Amazonwebscraper.csv', 'a+', newline= '', encoding= 'UTF8') as f:\n",
    "    writer= csv.writer(f)\n",
    "    writer.writerow(data)"
   ]
  },
  {
   "cell_type": "code",
   "execution_count": null,
   "id": "b46bbdd9",
   "metadata": {},
   "outputs": [],
   "source": [
    "def check_price():\n",
    "    URL = \"https://www.amazon.com/Funny-Data-Systems-Business-Analyst/dp/B07FNW9FGJ/ref=sr_1_3?crid=1M4HG3W37JJ4I&keywords=data+analyst+tshirt&qid=1641439478&sprefix=data+analyst+tshirt%2Caps%2C76&sr=8-3\"\n",
    "    \n",
    "    headers = {\"User-Agent\": \"Mozilla/5.0 (Macintosh; Intel Mac OS X 10_15_7) AppleWebKit/537.36 (KHTML, like Gecko) Chrome/96.0.4664.110 Safari/537.36\", \n",
    "    \"X-Amzn-Trace-Id\": \"Root=1-61d66163-33b71a1522290de52014ecb3\"}\n",
    "\n",
    "    page = requests.get(URL, headers=headers)\n",
    "\n",
    "    soup1 = BeautifulSoup(page.content, \"html.parser\")\n",
    "\n",
    "    soup2 = BeautifulSoup(soup1.prettify(), \"html.parser\")\n",
    "\n",
    "    title = soup2.find(id= 'productTitle').get_text()\n",
    "\n",
    "    price = soup2.find('span','a-offscreen').get_text()\n",
    "    \n",
    "    price= price.strip()[1:]\n",
    "    title= title.strip()\n",
    "    \n",
    "    import datetime\n",
    "\n",
    "    today= datetime.date.today()\n",
    "   \n",
    "    with open('Amazonwebscraper.csv', 'a+', newline= '', encoding= 'UTF8') as f:\n",
    "        writer= csv.writer(f)\n",
    "        writer.writerow(data)\n",
    "    "
   ]
  },
  {
   "cell_type": "code",
   "execution_count": null,
   "id": "44d8ba76",
   "metadata": {},
   "outputs": [],
   "source": [
    "while(True):\n",
    "    check_price()\n",
    "    time.sleep(86400)"
   ]
  },
  {
   "cell_type": "code",
   "execution_count": 69,
   "id": "81b14ddd",
   "metadata": {},
   "outputs": [
    {
     "name": "stdout",
     "output_type": "stream",
     "text": [
      "                                                                                                            Title  \\\n",
      "Funny Got Data MIS Data Systems Business Analys... 16.99Funny Got Data MIS Data Systems Business A...       16.99   \n",
      "                                                   16.99                                               2022-01-05   \n",
      "                                                   16.99                                               2022-01-05   \n",
      "                                                   16.99                                               2022-01-05   \n",
      "                                                   16.99                                               2022-01-05   \n",
      "                                                   16.99                                               2022-01-05   \n",
      "                                                   16.99                                               2022-01-05   \n",
      "                                                   16.99                                               2022-01-05   \n",
      "                                                   16.99                                               2022-01-05   \n",
      "                                                   16.99                                               2022-01-05   \n",
      "                                                   16.99                                               2022-01-05   \n",
      "                                                   16.99                                               2022-01-05   \n",
      "                                                   16.99                                               2022-01-05   \n",
      "                                                   16.99                                               2022-01-05   \n",
      "                                                   16.99                                               2022-01-05   \n",
      "                                                   16.99                                               2022-01-05   \n",
      "                                                   16.99                                               2022-01-05   \n",
      "                                                   16.99                                               2022-01-05   \n",
      "                                                   16.99                                               2022-01-05   \n",
      "                                                   16.99                                               2022-01-05   \n",
      "                                                   16.99                                               2022-01-05   \n",
      "                                                   16.99                                               2022-01-05   \n",
      "                                                   16.99                                               2022-01-05   \n",
      "                                                   16.99                                               2022-01-05   \n",
      "                                                   16.99                                               2022-01-05   \n",
      "                                                   16.99                                               2022-01-05   \n",
      "                                                   16.99                                               2022-01-05   \n",
      "                                                   16.99                                               2022-01-05   \n",
      "                                                   16.99                                               2022-01-05   \n",
      "                                                   16.99                                               2022-01-05   \n",
      "                                                   16.99                                               2022-01-05   \n",
      "                                                   16.99                                               2022-01-05   \n",
      "                                                   16.99                                               2022-01-05   \n",
      "                                                   16.99                                               2022-01-05   \n",
      "                                                   16.99                                               2022-01-05   \n",
      "                                                   16.99                                               2022-01-05   \n",
      "                                                   16.99                                               2022-01-05   \n",
      "                                                   16.99                                               2022-01-05   \n",
      "                                                   16.99                                               2022-01-05   \n",
      "                                                   16.99                                               2022-01-05   \n",
      "                                                   16.99                                               2022-01-05   \n",
      "                                                   16.99                                               2022-01-05   \n",
      "                                                   16.99                                               2022-01-05   \n",
      "                                                   16.99                                               2022-01-05   \n",
      "\n",
      "                                                                                                            Price  \n",
      "Funny Got Data MIS Data Systems Business Analys... 16.99Funny Got Data MIS Data Systems Business A...  2022-01-05  \n",
      "                                                   16.99                                                      NaN  \n",
      "                                                   16.99                                                      NaN  \n",
      "                                                   16.99                                                      NaN  \n",
      "                                                   16.99                                                      NaN  \n",
      "                                                   16.99                                                      NaN  \n",
      "                                                   16.99                                                      NaN  \n",
      "                                                   16.99                                                      NaN  \n",
      "                                                   16.99                                                      NaN  \n",
      "                                                   16.99                                                      NaN  \n",
      "                                                   16.99                                                      NaN  \n",
      "                                                   16.99                                                      NaN  \n",
      "                                                   16.99                                                      NaN  \n",
      "                                                   16.99                                                      NaN  \n",
      "                                                   16.99                                                      NaN  \n",
      "                                                   16.99                                                      NaN  \n",
      "                                                   16.99                                                      NaN  \n",
      "                                                   16.99                                                      NaN  \n",
      "                                                   16.99                                                      NaN  \n",
      "                                                   16.99                                                      NaN  \n",
      "                                                   16.99                                                      NaN  \n",
      "                                                   16.99                                                      NaN  \n",
      "                                                   16.99                                                      NaN  \n",
      "                                                   16.99                                                      NaN  \n",
      "                                                   16.99                                                      NaN  \n",
      "                                                   16.99                                                      NaN  \n",
      "                                                   16.99                                                      NaN  \n",
      "                                                   16.99                                                      NaN  \n",
      "                                                   16.99                                                      NaN  \n",
      "                                                   16.99                                                      NaN  \n",
      "                                                   16.99                                                      NaN  \n",
      "                                                   16.99                                                      NaN  \n",
      "                                                   16.99                                                      NaN  \n",
      "                                                   16.99                                                      NaN  \n",
      "                                                   16.99                                                      NaN  \n",
      "                                                   16.99                                                      NaN  \n",
      "                                                   16.99                                                      NaN  \n",
      "                                                   16.99                                                      NaN  \n",
      "                                                   16.99                                                      NaN  \n",
      "                                                   16.99                                                      NaN  \n",
      "                                                   16.99                                                      NaN  \n",
      "                                                   16.99                                                      NaN  \n",
      "                                                   16.99                                                      NaN  \n",
      "                                                   16.99                                                      NaN  \n"
     ]
    }
   ],
   "source": [
    "import pandas as pd\n",
    "\n",
    "df = pd.read_csv(r'/Users/calebrouse/Amazonwebscraper.csv')\n",
    "\n",
    "print(df)"
   ]
  },
  {
   "cell_type": "code",
   "execution_count": null,
   "id": "30b3d00c",
   "metadata": {},
   "outputs": [],
   "source": []
  },
  {
   "cell_type": "code",
   "execution_count": null,
   "id": "c457159a",
   "metadata": {},
   "outputs": [],
   "source": []
  },
  {
   "cell_type": "code",
   "execution_count": null,
   "id": "92f9fad4",
   "metadata": {},
   "outputs": [],
   "source": []
  }
 ],
 "metadata": {
  "kernelspec": {
   "display_name": "Python 3",
   "language": "python",
   "name": "python3"
  },
  "language_info": {
   "codemirror_mode": {
    "name": "ipython",
    "version": 3
   },
   "file_extension": ".py",
   "mimetype": "text/x-python",
   "name": "python",
   "nbconvert_exporter": "python",
   "pygments_lexer": "ipython3",
   "version": "3.8.8"
  }
 },
 "nbformat": 4,
 "nbformat_minor": 5
}
